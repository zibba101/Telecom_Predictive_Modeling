{
 "cells": [
  {
   "cell_type": "code",
   "execution_count": 1,
   "id": "8467eb01-a2e3-4c8c-85b9-12c63d4e9a37",
   "metadata": {},
   "outputs": [],
   "source": [
    "# Import packages\n",
    "import plotnine as p9\n",
    "import numpy as np\n",
    "import statistics\n",
    "from scipy import stats\n",
    "from scipy.stats import chi2_contingency\n",
    "import missingno as msno\n",
    "import matplotlib.pyplot as plt\n",
    "import pandas as pd\n",
    "import statsmodels.formula.api as smf\n",
    "import statsmodels as sm\n",
    "import seaborn as sns\n",
    "from sklearn import linear_model\n",
    "#from smf import logit\n",
    "from sklearn.model_selection import train_test_split\n",
    "from sklearn.linear_model import LogisticRegression\n",
    "from sklearn.metrics import classification_report\n",
    "from sklearn import metrics \n",
    "from sklearn.metrics import confusion_matrix\n",
    "from sklearn.metrics import roc_auc_score\n",
    "#%matlpotlib inline"
   ]
  },
  {
   "cell_type": "code",
   "execution_count": 2,
   "id": "8115bc18-ee94-4670-bcb8-2e84db153265",
   "metadata": {},
   "outputs": [],
   "source": [
    "#import the file\n",
    "df = pd.read_csv('churn_clean.csv',dtype={'locationid':np.int64})"
   ]
  },
  {
   "cell_type": "code",
   "execution_count": 3,
   "id": "4d85841c-479f-45fe-ad8e-d11d5539e7be",
   "metadata": {},
   "outputs": [
    {
     "data": {
      "text/html": [
       "<div>\n",
       "<style scoped>\n",
       "    .dataframe tbody tr th:only-of-type {\n",
       "        vertical-align: middle;\n",
       "    }\n",
       "\n",
       "    .dataframe tbody tr th {\n",
       "        vertical-align: top;\n",
       "    }\n",
       "\n",
       "    .dataframe thead th {\n",
       "        text-align: right;\n",
       "    }\n",
       "</style>\n",
       "<table border=\"1\" class=\"dataframe\">\n",
       "  <thead>\n",
       "    <tr style=\"text-align: right;\">\n",
       "      <th></th>\n",
       "      <th>CaseOrder</th>\n",
       "      <th>Customer_id</th>\n",
       "      <th>Interaction</th>\n",
       "      <th>UID</th>\n",
       "      <th>City</th>\n",
       "      <th>State</th>\n",
       "      <th>County</th>\n",
       "      <th>Zip</th>\n",
       "      <th>Lat</th>\n",
       "      <th>Lng</th>\n",
       "      <th>...</th>\n",
       "      <th>MonthlyCharge</th>\n",
       "      <th>Bandwidth_GB_Year</th>\n",
       "      <th>Item1</th>\n",
       "      <th>Item2</th>\n",
       "      <th>Item3</th>\n",
       "      <th>Item4</th>\n",
       "      <th>Item5</th>\n",
       "      <th>Item6</th>\n",
       "      <th>Item7</th>\n",
       "      <th>Item8</th>\n",
       "    </tr>\n",
       "  </thead>\n",
       "  <tbody>\n",
       "    <tr>\n",
       "      <th>0</th>\n",
       "      <td>1</td>\n",
       "      <td>K409198</td>\n",
       "      <td>aa90260b-4141-4a24-8e36-b04ce1f4f77b</td>\n",
       "      <td>e885b299883d4f9fb18e39c75155d990</td>\n",
       "      <td>Point Baker</td>\n",
       "      <td>AK</td>\n",
       "      <td>Prince of Wales-Hyder</td>\n",
       "      <td>99927</td>\n",
       "      <td>56.25100</td>\n",
       "      <td>-133.37571</td>\n",
       "      <td>...</td>\n",
       "      <td>172.455519</td>\n",
       "      <td>904.536110</td>\n",
       "      <td>5</td>\n",
       "      <td>5</td>\n",
       "      <td>5</td>\n",
       "      <td>3</td>\n",
       "      <td>4</td>\n",
       "      <td>4</td>\n",
       "      <td>3</td>\n",
       "      <td>4</td>\n",
       "    </tr>\n",
       "    <tr>\n",
       "      <th>1</th>\n",
       "      <td>2</td>\n",
       "      <td>S120509</td>\n",
       "      <td>fb76459f-c047-4a9d-8af9-e0f7d4ac2524</td>\n",
       "      <td>f2de8bef964785f41a2959829830fb8a</td>\n",
       "      <td>West Branch</td>\n",
       "      <td>MI</td>\n",
       "      <td>Ogemaw</td>\n",
       "      <td>48661</td>\n",
       "      <td>44.32893</td>\n",
       "      <td>-84.24080</td>\n",
       "      <td>...</td>\n",
       "      <td>242.632554</td>\n",
       "      <td>800.982766</td>\n",
       "      <td>3</td>\n",
       "      <td>4</td>\n",
       "      <td>3</td>\n",
       "      <td>3</td>\n",
       "      <td>4</td>\n",
       "      <td>3</td>\n",
       "      <td>4</td>\n",
       "      <td>4</td>\n",
       "    </tr>\n",
       "    <tr>\n",
       "      <th>2</th>\n",
       "      <td>3</td>\n",
       "      <td>K191035</td>\n",
       "      <td>344d114c-3736-4be5-98f7-c72c281e2d35</td>\n",
       "      <td>f1784cfa9f6d92ae816197eb175d3c71</td>\n",
       "      <td>Yamhill</td>\n",
       "      <td>OR</td>\n",
       "      <td>Yamhill</td>\n",
       "      <td>97148</td>\n",
       "      <td>45.35589</td>\n",
       "      <td>-123.24657</td>\n",
       "      <td>...</td>\n",
       "      <td>159.947583</td>\n",
       "      <td>2054.706961</td>\n",
       "      <td>4</td>\n",
       "      <td>4</td>\n",
       "      <td>2</td>\n",
       "      <td>4</td>\n",
       "      <td>4</td>\n",
       "      <td>3</td>\n",
       "      <td>3</td>\n",
       "      <td>3</td>\n",
       "    </tr>\n",
       "    <tr>\n",
       "      <th>3</th>\n",
       "      <td>4</td>\n",
       "      <td>D90850</td>\n",
       "      <td>abfa2b40-2d43-4994-b15a-989b8c79e311</td>\n",
       "      <td>dc8a365077241bb5cd5ccd305136b05e</td>\n",
       "      <td>Del Mar</td>\n",
       "      <td>CA</td>\n",
       "      <td>San Diego</td>\n",
       "      <td>92014</td>\n",
       "      <td>32.96687</td>\n",
       "      <td>-117.24798</td>\n",
       "      <td>...</td>\n",
       "      <td>119.956840</td>\n",
       "      <td>2164.579412</td>\n",
       "      <td>4</td>\n",
       "      <td>4</td>\n",
       "      <td>4</td>\n",
       "      <td>2</td>\n",
       "      <td>5</td>\n",
       "      <td>4</td>\n",
       "      <td>3</td>\n",
       "      <td>3</td>\n",
       "    </tr>\n",
       "    <tr>\n",
       "      <th>4</th>\n",
       "      <td>5</td>\n",
       "      <td>K662701</td>\n",
       "      <td>68a861fd-0d20-4e51-a587-8a90407ee574</td>\n",
       "      <td>aabb64a116e83fdc4befc1fbab1663f9</td>\n",
       "      <td>Needville</td>\n",
       "      <td>TX</td>\n",
       "      <td>Fort Bend</td>\n",
       "      <td>77461</td>\n",
       "      <td>29.38012</td>\n",
       "      <td>-95.80673</td>\n",
       "      <td>...</td>\n",
       "      <td>149.948316</td>\n",
       "      <td>271.493436</td>\n",
       "      <td>4</td>\n",
       "      <td>4</td>\n",
       "      <td>4</td>\n",
       "      <td>3</td>\n",
       "      <td>4</td>\n",
       "      <td>4</td>\n",
       "      <td>4</td>\n",
       "      <td>5</td>\n",
       "    </tr>\n",
       "    <tr>\n",
       "      <th>...</th>\n",
       "      <td>...</td>\n",
       "      <td>...</td>\n",
       "      <td>...</td>\n",
       "      <td>...</td>\n",
       "      <td>...</td>\n",
       "      <td>...</td>\n",
       "      <td>...</td>\n",
       "      <td>...</td>\n",
       "      <td>...</td>\n",
       "      <td>...</td>\n",
       "      <td>...</td>\n",
       "      <td>...</td>\n",
       "      <td>...</td>\n",
       "      <td>...</td>\n",
       "      <td>...</td>\n",
       "      <td>...</td>\n",
       "      <td>...</td>\n",
       "      <td>...</td>\n",
       "      <td>...</td>\n",
       "      <td>...</td>\n",
       "      <td>...</td>\n",
       "    </tr>\n",
       "    <tr>\n",
       "      <th>95</th>\n",
       "      <td>96</td>\n",
       "      <td>W877056</td>\n",
       "      <td>728fccac-151c-4743-8c4a-ebf5af17ec9d</td>\n",
       "      <td>2d0a8b770314914a21b0714fefb68925</td>\n",
       "      <td>Dallas</td>\n",
       "      <td>TX</td>\n",
       "      <td>Dallas</td>\n",
       "      <td>75212</td>\n",
       "      <td>32.78137</td>\n",
       "      <td>-96.87917</td>\n",
       "      <td>...</td>\n",
       "      <td>245.145743</td>\n",
       "      <td>1158.913690</td>\n",
       "      <td>5</td>\n",
       "      <td>5</td>\n",
       "      <td>4</td>\n",
       "      <td>5</td>\n",
       "      <td>1</td>\n",
       "      <td>5</td>\n",
       "      <td>5</td>\n",
       "      <td>4</td>\n",
       "    </tr>\n",
       "    <tr>\n",
       "      <th>96</th>\n",
       "      <td>97</td>\n",
       "      <td>M478246</td>\n",
       "      <td>fb749668-dbf8-448a-bc59-5bdba08f7e0b</td>\n",
       "      <td>e04663ac6cc68fac084cd2b394ca7cb8</td>\n",
       "      <td>Claytonville</td>\n",
       "      <td>IL</td>\n",
       "      <td>Iroquois</td>\n",
       "      <td>60926</td>\n",
       "      <td>40.57234</td>\n",
       "      <td>-87.80962</td>\n",
       "      <td>...</td>\n",
       "      <td>124.978080</td>\n",
       "      <td>529.407330</td>\n",
       "      <td>4</td>\n",
       "      <td>4</td>\n",
       "      <td>4</td>\n",
       "      <td>3</td>\n",
       "      <td>2</td>\n",
       "      <td>4</td>\n",
       "      <td>3</td>\n",
       "      <td>4</td>\n",
       "    </tr>\n",
       "    <tr>\n",
       "      <th>97</th>\n",
       "      <td>98</td>\n",
       "      <td>N417817</td>\n",
       "      <td>832e769e-3b90-47cc-8f70-12e77fbd52a2</td>\n",
       "      <td>4886325be93630732220fb84b427c7cd</td>\n",
       "      <td>Beaverville</td>\n",
       "      <td>IL</td>\n",
       "      <td>Iroquois</td>\n",
       "      <td>60912</td>\n",
       "      <td>40.97003</td>\n",
       "      <td>-87.59935</td>\n",
       "      <td>...</td>\n",
       "      <td>187.484705</td>\n",
       "      <td>1956.733700</td>\n",
       "      <td>3</td>\n",
       "      <td>2</td>\n",
       "      <td>2</td>\n",
       "      <td>4</td>\n",
       "      <td>3</td>\n",
       "      <td>2</td>\n",
       "      <td>3</td>\n",
       "      <td>2</td>\n",
       "    </tr>\n",
       "    <tr>\n",
       "      <th>98</th>\n",
       "      <td>99</td>\n",
       "      <td>R180138</td>\n",
       "      <td>7def992e-acd6-4b3e-9d01-68812f5fd2ff</td>\n",
       "      <td>9f2b4718c758e51e0b16b99cc7915687</td>\n",
       "      <td>Fayetteville</td>\n",
       "      <td>NC</td>\n",
       "      <td>Cumberland</td>\n",
       "      <td>28301</td>\n",
       "      <td>35.07431</td>\n",
       "      <td>-78.88358</td>\n",
       "      <td>...</td>\n",
       "      <td>162.500692</td>\n",
       "      <td>2056.386979</td>\n",
       "      <td>5</td>\n",
       "      <td>4</td>\n",
       "      <td>4</td>\n",
       "      <td>3</td>\n",
       "      <td>4</td>\n",
       "      <td>4</td>\n",
       "      <td>5</td>\n",
       "      <td>5</td>\n",
       "    </tr>\n",
       "    <tr>\n",
       "      <th>99</th>\n",
       "      <td>100</td>\n",
       "      <td>N931384</td>\n",
       "      <td>d280a01b-3e7a-4303-b8b1-62ca5f99597c</td>\n",
       "      <td>c532f9d9a04a5bf1d6ef9f36e9d9cac9</td>\n",
       "      <td>Stanley</td>\n",
       "      <td>ND</td>\n",
       "      <td>Mountrail</td>\n",
       "      <td>58784</td>\n",
       "      <td>48.36433</td>\n",
       "      <td>-102.42437</td>\n",
       "      <td>...</td>\n",
       "      <td>182.467607</td>\n",
       "      <td>1067.373076</td>\n",
       "      <td>3</td>\n",
       "      <td>4</td>\n",
       "      <td>3</td>\n",
       "      <td>5</td>\n",
       "      <td>2</td>\n",
       "      <td>6</td>\n",
       "      <td>6</td>\n",
       "      <td>6</td>\n",
       "    </tr>\n",
       "  </tbody>\n",
       "</table>\n",
       "<p>100 rows × 50 columns</p>\n",
       "</div>"
      ],
      "text/plain": [
       "    CaseOrder Customer_id                           Interaction  \\\n",
       "0           1     K409198  aa90260b-4141-4a24-8e36-b04ce1f4f77b   \n",
       "1           2     S120509  fb76459f-c047-4a9d-8af9-e0f7d4ac2524   \n",
       "2           3     K191035  344d114c-3736-4be5-98f7-c72c281e2d35   \n",
       "3           4      D90850  abfa2b40-2d43-4994-b15a-989b8c79e311   \n",
       "4           5     K662701  68a861fd-0d20-4e51-a587-8a90407ee574   \n",
       "..        ...         ...                                   ...   \n",
       "95         96     W877056  728fccac-151c-4743-8c4a-ebf5af17ec9d   \n",
       "96         97     M478246  fb749668-dbf8-448a-bc59-5bdba08f7e0b   \n",
       "97         98     N417817  832e769e-3b90-47cc-8f70-12e77fbd52a2   \n",
       "98         99     R180138  7def992e-acd6-4b3e-9d01-68812f5fd2ff   \n",
       "99        100     N931384  d280a01b-3e7a-4303-b8b1-62ca5f99597c   \n",
       "\n",
       "                                 UID          City State  \\\n",
       "0   e885b299883d4f9fb18e39c75155d990   Point Baker    AK   \n",
       "1   f2de8bef964785f41a2959829830fb8a   West Branch    MI   \n",
       "2   f1784cfa9f6d92ae816197eb175d3c71       Yamhill    OR   \n",
       "3   dc8a365077241bb5cd5ccd305136b05e       Del Mar    CA   \n",
       "4   aabb64a116e83fdc4befc1fbab1663f9     Needville    TX   \n",
       "..                               ...           ...   ...   \n",
       "95  2d0a8b770314914a21b0714fefb68925        Dallas    TX   \n",
       "96  e04663ac6cc68fac084cd2b394ca7cb8  Claytonville    IL   \n",
       "97  4886325be93630732220fb84b427c7cd   Beaverville    IL   \n",
       "98  9f2b4718c758e51e0b16b99cc7915687  Fayetteville    NC   \n",
       "99  c532f9d9a04a5bf1d6ef9f36e9d9cac9       Stanley    ND   \n",
       "\n",
       "                   County    Zip       Lat        Lng  ...  MonthlyCharge  \\\n",
       "0   Prince of Wales-Hyder  99927  56.25100 -133.37571  ...     172.455519   \n",
       "1                  Ogemaw  48661  44.32893  -84.24080  ...     242.632554   \n",
       "2                 Yamhill  97148  45.35589 -123.24657  ...     159.947583   \n",
       "3               San Diego  92014  32.96687 -117.24798  ...     119.956840   \n",
       "4               Fort Bend  77461  29.38012  -95.80673  ...     149.948316   \n",
       "..                    ...    ...       ...        ...  ...            ...   \n",
       "95                 Dallas  75212  32.78137  -96.87917  ...     245.145743   \n",
       "96               Iroquois  60926  40.57234  -87.80962  ...     124.978080   \n",
       "97               Iroquois  60912  40.97003  -87.59935  ...     187.484705   \n",
       "98             Cumberland  28301  35.07431  -78.88358  ...     162.500692   \n",
       "99              Mountrail  58784  48.36433 -102.42437  ...     182.467607   \n",
       "\n",
       "   Bandwidth_GB_Year Item1 Item2  Item3  Item4  Item5 Item6 Item7 Item8  \n",
       "0         904.536110     5     5      5      3      4     4     3     4  \n",
       "1         800.982766     3     4      3      3      4     3     4     4  \n",
       "2        2054.706961     4     4      2      4      4     3     3     3  \n",
       "3        2164.579412     4     4      4      2      5     4     3     3  \n",
       "4         271.493436     4     4      4      3      4     4     4     5  \n",
       "..               ...   ...   ...    ...    ...    ...   ...   ...   ...  \n",
       "95       1158.913690     5     5      4      5      1     5     5     4  \n",
       "96        529.407330     4     4      4      3      2     4     3     4  \n",
       "97       1956.733700     3     2      2      4      3     2     3     2  \n",
       "98       2056.386979     5     4      4      3      4     4     5     5  \n",
       "99       1067.373076     3     4      3      5      2     6     6     6  \n",
       "\n",
       "[100 rows x 50 columns]"
      ]
     },
     "execution_count": 3,
     "metadata": {},
     "output_type": "execute_result"
    }
   ],
   "source": [
    "#print first 100 records\n",
    "df.head(100)"
   ]
  },
  {
   "cell_type": "code",
   "execution_count": 4,
   "id": "0420f383-edf2-4eb1-ac00-b2e3aa88cd5c",
   "metadata": {},
   "outputs": [],
   "source": [
    "#check for columns with missing values\n",
    "missingvalues = df.isna().sum()"
   ]
  },
  {
   "cell_type": "code",
   "execution_count": 5,
   "id": "cb039548-f114-4983-ae7e-1b58aef1dfce",
   "metadata": {},
   "outputs": [
    {
     "name": "stdout",
     "output_type": "stream",
     "text": [
      "CaseOrder               0\n",
      "Customer_id             0\n",
      "Interaction             0\n",
      "UID                     0\n",
      "City                    0\n",
      "State                   0\n",
      "County                  0\n",
      "Zip                     0\n",
      "Lat                     0\n",
      "Lng                     0\n",
      "Population              0\n",
      "Area                    0\n",
      "TimeZone                0\n",
      "Job                     0\n",
      "Children                0\n",
      "Age                     0\n",
      "Income                  0\n",
      "Marital                 0\n",
      "Gender                  0\n",
      "Churn                   0\n",
      "Outage_sec_perweek      0\n",
      "Email                   0\n",
      "Contacts                0\n",
      "Yearly_equip_failure    0\n",
      "Techie                  0\n",
      "Contract                0\n",
      "Port_modem              0\n",
      "Tablet                  0\n",
      "InternetService         0\n",
      "Phone                   0\n",
      "Multiple                0\n",
      "OnlineSecurity          0\n",
      "OnlineBackup            0\n",
      "DeviceProtection        0\n",
      "TechSupport             0\n",
      "StreamingTV             0\n",
      "StreamingMovies         0\n",
      "PaperlessBilling        0\n",
      "PaymentMethod           0\n",
      "Tenure                  0\n",
      "MonthlyCharge           0\n",
      "Bandwidth_GB_Year       0\n",
      "Item1                   0\n",
      "Item2                   0\n",
      "Item3                   0\n",
      "Item4                   0\n",
      "Item5                   0\n",
      "Item6                   0\n",
      "Item7                   0\n",
      "Item8                   0\n",
      "dtype: int64\n"
     ]
    }
   ],
   "source": [
    "#print the summary of columns with missing values\n",
    "print(missingvalues)"
   ]
  },
  {
   "cell_type": "code",
   "execution_count": 6,
   "id": "3340996e-c55f-463e-816d-994e7b2b049f",
   "metadata": {},
   "outputs": [],
   "source": [
    "#drop columns irrelevant to analysis\n",
    "NewDf = df.drop(columns=['Marital','Job','CaseOrder', 'Customer_id', 'Interaction','UID','City','State','County', 'Zip', 'Lat', 'Lng', 'Population', 'Area', 'TimeZone','Techie', 'Port_modem','Tablet', \n",
    "'Phone','Multiple','OnlineSecurity', 'OnlineBackup','DeviceProtection','TechSupport','StreamingTV','Contract','InternetService','StreamingMovies', 'PaperlessBilling', 'PaymentMethod', \n",
    " 'Item1', 'Item2', 'Item3', 'Item4', 'Item5', 'Item6', 'Item7', 'Item8','Tenure'])"
   ]
  },
  {
   "cell_type": "code",
   "execution_count": 7,
   "id": "759f0d68-9344-43b3-a2aa-8987ea675ed6",
   "metadata": {},
   "outputs": [
    {
     "data": {
      "text/html": [
       "<div>\n",
       "<style scoped>\n",
       "    .dataframe tbody tr th:only-of-type {\n",
       "        vertical-align: middle;\n",
       "    }\n",
       "\n",
       "    .dataframe tbody tr th {\n",
       "        vertical-align: top;\n",
       "    }\n",
       "\n",
       "    .dataframe thead th {\n",
       "        text-align: right;\n",
       "    }\n",
       "</style>\n",
       "<table border=\"1\" class=\"dataframe\">\n",
       "  <thead>\n",
       "    <tr style=\"text-align: right;\">\n",
       "      <th></th>\n",
       "      <th>Children</th>\n",
       "      <th>Age</th>\n",
       "      <th>Income</th>\n",
       "      <th>Outage_sec_perweek</th>\n",
       "      <th>Email</th>\n",
       "      <th>Contacts</th>\n",
       "      <th>Yearly_equip_failure</th>\n",
       "      <th>MonthlyCharge</th>\n",
       "      <th>Bandwidth_GB_Year</th>\n",
       "    </tr>\n",
       "  </thead>\n",
       "  <tbody>\n",
       "    <tr>\n",
       "      <th>count</th>\n",
       "      <td>10000.00</td>\n",
       "      <td>10000.00</td>\n",
       "      <td>10000.00</td>\n",
       "      <td>10000.00</td>\n",
       "      <td>10000.00</td>\n",
       "      <td>10000.00</td>\n",
       "      <td>10000.00</td>\n",
       "      <td>10000.00</td>\n",
       "      <td>10000.00</td>\n",
       "    </tr>\n",
       "    <tr>\n",
       "      <th>mean</th>\n",
       "      <td>2.09</td>\n",
       "      <td>53.08</td>\n",
       "      <td>39806.93</td>\n",
       "      <td>10.00</td>\n",
       "      <td>12.02</td>\n",
       "      <td>0.99</td>\n",
       "      <td>0.40</td>\n",
       "      <td>172.62</td>\n",
       "      <td>3392.34</td>\n",
       "    </tr>\n",
       "    <tr>\n",
       "      <th>std</th>\n",
       "      <td>2.15</td>\n",
       "      <td>20.70</td>\n",
       "      <td>28199.92</td>\n",
       "      <td>2.98</td>\n",
       "      <td>3.03</td>\n",
       "      <td>0.99</td>\n",
       "      <td>0.64</td>\n",
       "      <td>42.94</td>\n",
       "      <td>2185.29</td>\n",
       "    </tr>\n",
       "    <tr>\n",
       "      <th>min</th>\n",
       "      <td>0.00</td>\n",
       "      <td>18.00</td>\n",
       "      <td>348.67</td>\n",
       "      <td>0.10</td>\n",
       "      <td>1.00</td>\n",
       "      <td>0.00</td>\n",
       "      <td>0.00</td>\n",
       "      <td>79.98</td>\n",
       "      <td>155.51</td>\n",
       "    </tr>\n",
       "    <tr>\n",
       "      <th>25%</th>\n",
       "      <td>0.00</td>\n",
       "      <td>35.00</td>\n",
       "      <td>19224.72</td>\n",
       "      <td>8.02</td>\n",
       "      <td>10.00</td>\n",
       "      <td>0.00</td>\n",
       "      <td>0.00</td>\n",
       "      <td>139.98</td>\n",
       "      <td>1236.47</td>\n",
       "    </tr>\n",
       "    <tr>\n",
       "      <th>50%</th>\n",
       "      <td>1.00</td>\n",
       "      <td>53.00</td>\n",
       "      <td>33170.60</td>\n",
       "      <td>10.02</td>\n",
       "      <td>12.00</td>\n",
       "      <td>1.00</td>\n",
       "      <td>0.00</td>\n",
       "      <td>167.48</td>\n",
       "      <td>3279.54</td>\n",
       "    </tr>\n",
       "    <tr>\n",
       "      <th>75%</th>\n",
       "      <td>3.00</td>\n",
       "      <td>71.00</td>\n",
       "      <td>53246.17</td>\n",
       "      <td>11.97</td>\n",
       "      <td>14.00</td>\n",
       "      <td>2.00</td>\n",
       "      <td>1.00</td>\n",
       "      <td>200.73</td>\n",
       "      <td>5586.14</td>\n",
       "    </tr>\n",
       "    <tr>\n",
       "      <th>max</th>\n",
       "      <td>10.00</td>\n",
       "      <td>89.00</td>\n",
       "      <td>258900.70</td>\n",
       "      <td>21.21</td>\n",
       "      <td>23.00</td>\n",
       "      <td>7.00</td>\n",
       "      <td>6.00</td>\n",
       "      <td>290.16</td>\n",
       "      <td>7158.98</td>\n",
       "    </tr>\n",
       "  </tbody>\n",
       "</table>\n",
       "</div>"
      ],
      "text/plain": [
       "       Children       Age     Income  Outage_sec_perweek     Email  Contacts  \\\n",
       "count  10000.00  10000.00   10000.00            10000.00  10000.00  10000.00   \n",
       "mean       2.09     53.08   39806.93               10.00     12.02      0.99   \n",
       "std        2.15     20.70   28199.92                2.98      3.03      0.99   \n",
       "min        0.00     18.00     348.67                0.10      1.00      0.00   \n",
       "25%        0.00     35.00   19224.72                8.02     10.00      0.00   \n",
       "50%        1.00     53.00   33170.60               10.02     12.00      1.00   \n",
       "75%        3.00     71.00   53246.17               11.97     14.00      2.00   \n",
       "max       10.00     89.00  258900.70               21.21     23.00      7.00   \n",
       "\n",
       "       Yearly_equip_failure  MonthlyCharge  Bandwidth_GB_Year  \n",
       "count              10000.00       10000.00           10000.00  \n",
       "mean                   0.40         172.62            3392.34  \n",
       "std                    0.64          42.94            2185.29  \n",
       "min                    0.00          79.98             155.51  \n",
       "25%                    0.00         139.98            1236.47  \n",
       "50%                    0.00         167.48            3279.54  \n",
       "75%                    1.00         200.73            5586.14  \n",
       "max                    6.00         290.16            7158.98  "
      ]
     },
     "execution_count": 7,
     "metadata": {},
     "output_type": "execute_result"
    }
   ],
   "source": [
    "#summary statistics\n",
    "round(NewDf.describe(),2)"
   ]
  },
  {
   "cell_type": "code",
   "execution_count": 8,
   "id": "06b37626-2373-40b2-b170-cd45145cc480",
   "metadata": {},
   "outputs": [
    {
     "data": {
      "text/plain": [
       "Children                  int64\n",
       "Age                       int64\n",
       "Income                  float64\n",
       "Gender                   object\n",
       "Churn                    object\n",
       "Outage_sec_perweek      float64\n",
       "Email                     int64\n",
       "Contacts                  int64\n",
       "Yearly_equip_failure      int64\n",
       "MonthlyCharge           float64\n",
       "Bandwidth_GB_Year       float64\n",
       "dtype: object"
      ]
     },
     "execution_count": 8,
     "metadata": {},
     "output_type": "execute_result"
    }
   ],
   "source": [
    "#check the datatypes of each columns\n",
    "NewDf.dtypes"
   ]
  },
  {
   "cell_type": "code",
   "execution_count": 9,
   "id": "6405d61d-b2b7-4ae7-9408-5ca0edd50a6d",
   "metadata": {},
   "outputs": [
    {
     "data": {
      "text/html": [
       "<div>\n",
       "<style scoped>\n",
       "    .dataframe tbody tr th:only-of-type {\n",
       "        vertical-align: middle;\n",
       "    }\n",
       "\n",
       "    .dataframe tbody tr th {\n",
       "        vertical-align: top;\n",
       "    }\n",
       "\n",
       "    .dataframe thead th {\n",
       "        text-align: right;\n",
       "    }\n",
       "</style>\n",
       "<table border=\"1\" class=\"dataframe\">\n",
       "  <thead>\n",
       "    <tr style=\"text-align: right;\">\n",
       "      <th></th>\n",
       "      <th>Children</th>\n",
       "      <th>Age</th>\n",
       "      <th>Income</th>\n",
       "      <th>Outage_sec_perweek</th>\n",
       "      <th>Email</th>\n",
       "      <th>Contacts</th>\n",
       "      <th>Yearly_equip_failure</th>\n",
       "      <th>MonthlyCharge</th>\n",
       "      <th>Bandwidth_GB_Year</th>\n",
       "      <th>gender_dummy</th>\n",
       "      <th>churn_dummy</th>\n",
       "    </tr>\n",
       "  </thead>\n",
       "  <tbody>\n",
       "    <tr>\n",
       "      <th>0</th>\n",
       "      <td>0</td>\n",
       "      <td>68</td>\n",
       "      <td>28561.99</td>\n",
       "      <td>7.978323</td>\n",
       "      <td>10</td>\n",
       "      <td>0</td>\n",
       "      <td>1</td>\n",
       "      <td>172.455519</td>\n",
       "      <td>904.536110</td>\n",
       "      <td>0</td>\n",
       "      <td>0</td>\n",
       "    </tr>\n",
       "    <tr>\n",
       "      <th>1</th>\n",
       "      <td>1</td>\n",
       "      <td>27</td>\n",
       "      <td>21704.77</td>\n",
       "      <td>11.699080</td>\n",
       "      <td>12</td>\n",
       "      <td>0</td>\n",
       "      <td>1</td>\n",
       "      <td>242.632554</td>\n",
       "      <td>800.982766</td>\n",
       "      <td>1</td>\n",
       "      <td>1</td>\n",
       "    </tr>\n",
       "    <tr>\n",
       "      <th>2</th>\n",
       "      <td>4</td>\n",
       "      <td>50</td>\n",
       "      <td>9609.57</td>\n",
       "      <td>10.752800</td>\n",
       "      <td>9</td>\n",
       "      <td>0</td>\n",
       "      <td>1</td>\n",
       "      <td>159.947583</td>\n",
       "      <td>2054.706961</td>\n",
       "      <td>1</td>\n",
       "      <td>0</td>\n",
       "    </tr>\n",
       "    <tr>\n",
       "      <th>3</th>\n",
       "      <td>1</td>\n",
       "      <td>48</td>\n",
       "      <td>18925.23</td>\n",
       "      <td>14.913540</td>\n",
       "      <td>15</td>\n",
       "      <td>2</td>\n",
       "      <td>0</td>\n",
       "      <td>119.956840</td>\n",
       "      <td>2164.579412</td>\n",
       "      <td>0</td>\n",
       "      <td>0</td>\n",
       "    </tr>\n",
       "    <tr>\n",
       "      <th>4</th>\n",
       "      <td>0</td>\n",
       "      <td>83</td>\n",
       "      <td>40074.19</td>\n",
       "      <td>8.147417</td>\n",
       "      <td>16</td>\n",
       "      <td>2</td>\n",
       "      <td>1</td>\n",
       "      <td>149.948316</td>\n",
       "      <td>271.493436</td>\n",
       "      <td>0</td>\n",
       "      <td>1</td>\n",
       "    </tr>\n",
       "  </tbody>\n",
       "</table>\n",
       "</div>"
      ],
      "text/plain": [
       "   Children  Age    Income  Outage_sec_perweek  Email  Contacts  \\\n",
       "0         0   68  28561.99            7.978323     10         0   \n",
       "1         1   27  21704.77           11.699080     12         0   \n",
       "2         4   50   9609.57           10.752800      9         0   \n",
       "3         1   48  18925.23           14.913540     15         2   \n",
       "4         0   83  40074.19            8.147417     16         2   \n",
       "\n",
       "   Yearly_equip_failure  MonthlyCharge  Bandwidth_GB_Year  gender_dummy  \\\n",
       "0                     1     172.455519         904.536110             0   \n",
       "1                     1     242.632554         800.982766             1   \n",
       "2                     1     159.947583        2054.706961             1   \n",
       "3                     0     119.956840        2164.579412             0   \n",
       "4                     1     149.948316         271.493436             0   \n",
       "\n",
       "   churn_dummy  \n",
       "0            0  \n",
       "1            1  \n",
       "2            0  \n",
       "3            0  \n",
       "4            1  "
      ]
     },
     "execution_count": 9,
     "metadata": {},
     "output_type": "execute_result"
    }
   ],
   "source": [
    "#create dummies for certain variables\n",
    "NewDf['gender_dummy'] = [1 if v == 'Female' else 0 for v in NewDf['Gender']]\n",
    "NewDf['churn_dummy'] = [1 if v == 'Yes' else 0 for v in NewDf['Churn']]\n",
    "NewDf = NewDf.drop(columns=['Gender','Churn'])\n",
    "NewDf.head()"
   ]
  },
  {
   "cell_type": "code",
   "execution_count": 10,
   "id": "2254171c-a0da-417c-803e-4272cc08bf41",
   "metadata": {},
   "outputs": [
    {
     "data": {
      "image/png": "[encoded data removed]",
      "text/plain": [
       "<Figure size 432x288 with 1 Axes>"
      ]
     },
     "metadata": {
      "needs_background": "light"
     },
     "output_type": "display_data"
    }
   ],
   "source": [
    "#create univariate visualizations\n",
    "plt.hist(df['Churn'])\n",
    "plt.xlabel(\"Churn\")\n",
    "plt.ylabel(\"Customers\")\n",
    "plt.show()\n"
   ]
  },
  {
   "cell_type": "code",
   "execution_count": 11,
   "id": "13a7c633-b563-459f-8939-c5717d3e75f0",
   "metadata": {},
   "outputs": [
    {
     "data": {
      "image/png": "[encoded data removed]",
      "text/plain": [
       "<Figure size 432x288 with 1 Axes>"
      ]
     },
     "metadata": {
      "needs_background": "light"
     },
     "output_type": "display_data"
    }
   ],
   "source": [
    "NewDf.hist(column='Bandwidth_GB_Year')\n",
    "plt.xlabel(\"Bandwidth\")\n",
    "plt.ylabel(\"Customers\")\n",
    "plt.show()"
   ]
  },
  {
   "cell_type": "code",
   "execution_count": 12,
   "id": "9b7107df-06d0-4604-90af-dca9641a573b",
   "metadata": {},
   "outputs": [
    {
     "data": {
      "image/png": "[encoded data removed]",
      "text/plain": [
       "<Figure size 432x288 with 1 Axes>"
      ]
     },
     "metadata": {
      "needs_background": "light"
     },
     "output_type": "display_data"
    }
   ],
   "source": [
    "plt.hist(df['Gender'])\n",
    "plt.xlabel(\" Gender\")\n",
    "plt.ylabel(\"Customers\")\n",
    "plt.show()\n"
   ]
  },
  {
   "cell_type": "code",
   "execution_count": 13,
   "id": "8463a268-7917-497f-b10b-e9d50ea6bd18",
   "metadata": {},
   "outputs": [
    {
     "data": {
      "image/png": "[encoded data removed]",
      "text/plain": [
       "<Figure size 432x288 with 1 Axes>"
      ]
     },
     "metadata": {
      "needs_background": "light"
     },
     "output_type": "display_data"
    }
   ],
   "source": [
    "sns.boxplot(data=NewDf.Age)\n",
    "plt.title('Age of Customers')\n",
    "plt.show()"
   ]
  },
  {
   "cell_type": "code",
   "execution_count": 14,
   "id": "a6f58c3e-271b-484d-ae42-c0a2823f769f",
   "metadata": {},
   "outputs": [
    {
     "data": {
      "image/png": "[encoded data removed]",
      "text/plain": [
       "<Figure size 432x288 with 1 Axes>"
      ]
     },
     "metadata": {
      "needs_background": "light"
     },
     "output_type": "display_data"
    }
   ],
   "source": [
    "sns.kdeplot(NewDf['Children'])\n",
    "plt.title(\"Number of Children Customers Have\")\n",
    "plt.show()"
   ]
  },
  {
   "cell_type": "code",
   "execution_count": 15,
   "id": "f9a79a95-48c8-4d37-9878-f2d12750d803",
   "metadata": {},
   "outputs": [
    {
     "data": {
      "image/png": "[encoded data removed]",
      "text/plain": [
       "<Figure size 432x288 with 1 Axes>"
      ]
     },
     "metadata": {
      "needs_background": "light"
     },
     "output_type": "display_data"
    }
   ],
   "source": [
    "NewDf.hist(column='Income')\n",
    "plt.xlabel(\"Income\")\n",
    "plt.ylabel(\"Customers\")\n",
    "plt.show()"
   ]
  },
  {
   "cell_type": "code",
   "execution_count": 16,
   "id": "e6b8df06-64b7-43bc-b1f2-8625d778f163",
   "metadata": {},
   "outputs": [
    {
     "data": {
      "image/png": "[encoded data removed]",
      "text/plain": [
       "<Figure size 432x288 with 1 Axes>"
      ]
     },
     "metadata": {
      "needs_background": "light"
     },
     "output_type": "display_data"
    }
   ],
   "source": [
    "NewDf.hist(column='Email')\n",
    "plt.xlabel(\"Emails Received\")\n",
    "plt.ylabel(\"Customers\")\n",
    "plt.show()"
   ]
  },
  {
   "cell_type": "code",
   "execution_count": 17,
   "id": "cf68a304-3b04-4fe0-8445-4b1a371a0856",
   "metadata": {},
   "outputs": [
    {
     "data": {
      "image/png": "[encoded data removed]",
      "text/plain": [
       "<Figure size 432x288 with 1 Axes>"
      ]
     },
     "metadata": {
      "needs_background": "light"
     },
     "output_type": "display_data"
    }
   ],
   "source": [
    "sns.boxplot(data=NewDf.Yearly_equip_failure)\n",
    "plt.title('Yearly Equipment Failure')\n",
    "plt.show()\n"
   ]
  },
  {
   "cell_type": "code",
   "execution_count": 18,
   "id": "7546ba0c-dd58-4557-88dc-c7a60e50650f",
   "metadata": {},
   "outputs": [
    {
     "data": {
      "image/png": "[encoded data removed]",
      "text/plain": [
       "<Figure size 432x288 with 1 Axes>"
      ]
     },
     "metadata": {
      "needs_background": "light"
     },
     "output_type": "display_data"
    }
   ],
   "source": [
    "NewDf.hist(column='MonthlyCharge')\n",
    "plt.title('Monthly Charge of Customers')\n",
    "plt.xlabel(\"Monthly Charge\")\n",
    "plt.ylabel(\"Customers\")\n",
    "plt.show()"
   ]
  },
  {
   "cell_type": "code",
   "execution_count": 19,
   "id": "b124050a-9027-441f-959e-3060967cc304",
   "metadata": {},
   "outputs": [
    {
     "data": {
      "text/plain": [
       "<AxesSubplot:title={'center':'Churn vs Outage Per Week (Seconds)'}, xlabel='Outage_sec_perweek', ylabel='churn_dummy'>"
      ]
     },
     "execution_count": 19,
     "metadata": {},
     "output_type": "execute_result"
    },
    {
     "data": {
      "image/png": "[encoded data removed]",
      "text/plain": [
       "<Figure size 432x288 with 1 Axes>"
      ]
     },
     "metadata": {
      "needs_background": "light"
     },
     "output_type": "display_data"
    }
   ],
   "source": [
    "#bivariate visualization of predictor variables and target variable: Churn \n",
    "plt.title('Churn vs Outage Per Week (Seconds)')\n",
    "sns.scatterplot(data = NewDf, x = NewDf.Outage_sec_perweek[0:100], y = NewDf.churn_dummy[0:100])\n"
   ]
  },
  {
   "cell_type": "code",
   "execution_count": 20,
   "id": "eed27514-ce6c-4b9f-9ae6-d11789374b08",
   "metadata": {},
   "outputs": [
    {
     "data": {
      "text/plain": [
       "<AxesSubplot:title={'center':'Churn vs Income'}, xlabel='Income', ylabel='churn_dummy'>"
      ]
     },
     "execution_count": 20,
     "metadata": {},
     "output_type": "execute_result"
    },
    {
     "data": {
      "image/png": "[encoded data removed]",
      "text/plain": [
       "<Figure size 432x288 with 1 Axes>"
      ]
     },
     "metadata": {
      "needs_background": "light"
     },
     "output_type": "display_data"
    }
   ],
   "source": [
    "plt.title('Churn vs Income')\n",
    "sns.scatterplot(data = NewDf, x = NewDf.Income[0:100], y = NewDf.churn_dummy[0:100], color='darkorange')\n"
   ]
  },
  {
   "cell_type": "code",
   "execution_count": 21,
   "id": "f09418ca-7560-470f-bbd8-347a41ecc821",
   "metadata": {},
   "outputs": [
    {
     "data": {
      "image/png": "[encoded data removed]",
      "text/plain": [
       "<Figure size 432x288 with 1 Axes>"
      ]
     },
     "metadata": {
      "needs_background": "light"
     },
     "output_type": "display_data"
    }
   ],
   "source": [
    "\n",
    "plt.title('Churn vs Age')\n",
    "sns.scatterplot(data = NewDf, x = NewDf.Age[0:100], y = NewDf.churn_dummy[0:100], color='black')\n",
    "plt.show()"
   ]
  },
  {
   "cell_type": "code",
   "execution_count": 22,
   "id": "bc8f01a7-9580-4f55-b06d-c053957e01a5",
   "metadata": {},
   "outputs": [
    {
     "data": {
      "image/png": "[encoded data removed]",
      "text/plain": [
       "<Figure size 432x288 with 1 Axes>"
      ]
     },
     "metadata": {
      "needs_background": "light"
     },
     "output_type": "display_data"
    }
   ],
   "source": [
    "\n",
    "plt.title('Churn vs Children')\n",
    "sns.scatterplot(data = NewDf, x = NewDf.Children[0:100], y = NewDf.churn_dummy[0:100])\n",
    "plt.show()"
   ]
  },
  {
   "cell_type": "code",
   "execution_count": 23,
   "id": "35108244-46c8-48a6-bb23-ea25e4bfbcfa",
   "metadata": {},
   "outputs": [
    {
     "data": {
      "image/png": "[encoded data removed]",
      "text/plain": [
       "<Figure size 432x288 with 1 Axes>"
      ]
     },
     "metadata": {
      "needs_background": "light"
     },
     "output_type": "display_data"
    }
   ],
   "source": [
    "\n",
    "plt.title('Churn vs Monthly Charge')\n",
    "sns.scatterplot(data = NewDf, x=NewDf.MonthlyCharge[0:100], y=NewDf.churn_dummy[0:100], color='darkorange')\n",
    "plt.show()"
   ]
  },
  {
   "cell_type": "code",
   "execution_count": 24,
   "id": "8add3d54-74df-4f86-a46f-230ac6576a13",
   "metadata": {},
   "outputs": [
    {
     "data": {
      "image/png": "[encoded data removed]",
      "text/plain": [
       "<Figure size 432x288 with 1 Axes>"
      ]
     },
     "metadata": {
      "needs_background": "light"
     },
     "output_type": "display_data"
    }
   ],
   "source": [
    "plt.title('Churn vs Bandwidth_GB_Year')\n",
    "sns.scatterplot(data=NewDf, x = NewDf.Bandwidth_GB_Year[0:100], y = NewDf.churn_dummy[0:100],color='red')\n",
    "plt.show()"
   ]
  },
  {
   "cell_type": "code",
   "execution_count": 25,
   "id": "f71c262f-d826-4375-a1f8-8fc2b957d332",
   "metadata": {},
   "outputs": [
    {
     "data": {
      "image/png": "[encoded data removed]",
      "text/plain": [
       "<Figure size 432x288 with 1 Axes>"
      ]
     },
     "metadata": {
      "needs_background": "light"
     },
     "output_type": "display_data"
    }
   ],
   "source": [
    "plt.title('Churn vs Emails')\n",
    "sns.scatterplot(data = NewDf, x=NewDf.Email[0:100], y=NewDf.churn_dummy[0:100], color='purple')\n",
    "plt.show()"
   ]
  },
  {
   "cell_type": "code",
   "execution_count": 26,
   "id": "2e93320b-cc5e-463c-8de2-38ec70f2c81b",
   "metadata": {},
   "outputs": [
    {
     "data": {
      "image/png": "[encoded data removed]",
      "text/plain": [
       "<Figure size 432x288 with 1 Axes>"
      ]
     },
     "metadata": {
      "needs_background": "light"
     },
     "output_type": "display_data"
    }
   ],
   "source": [
    "plt.title('Churn vs Tech Support Contact')\n",
    "sns.scatterplot(data = NewDf, x=NewDf.Contacts[0:100], y=NewDf.churn_dummy[0:100], color='red')\n",
    "plt.show()"
   ]
  },
  {
   "cell_type": "code",
   "execution_count": 27,
   "id": "3c50b750-24b7-462e-a282-b990bb2c54e4",
   "metadata": {},
   "outputs": [
    {
     "data": {
      "image/png": "[encoded data removed]",
      "text/plain": [
       "<Figure size 432x288 with 1 Axes>"
      ]
     },
     "metadata": {
      "needs_background": "light"
     },
     "output_type": "display_data"
    }
   ],
   "source": [
    "plt.title('Churn vs Yearly Equipment Failure')\n",
    "sns.scatterplot(data = NewDf, x=NewDf.Yearly_equip_failure[0:100], y=NewDf.churn_dummy[0:100], color='green')\n",
    "plt.show()"
   ]
  },
  {
   "cell_type": "code",
   "execution_count": 28,
   "id": "e976a6db-bb20-4d10-a978-e33324bd7ae6",
   "metadata": {},
   "outputs": [
    {
     "name": "stdout",
     "output_type": "stream",
     "text": [
      "      Children  Age    Income  Outage_sec_perweek  Email  Contacts  \\\n",
      "0            0   68  28561.99            7.978323     10         0   \n",
      "1            1   27  21704.77           11.699080     12         0   \n",
      "2            4   50   9609.57           10.752800      9         0   \n",
      "3            1   48  18925.23           14.913540     15         2   \n",
      "4            0   83  40074.19            8.147417     16         2   \n",
      "...        ...  ...       ...                 ...    ...       ...   \n",
      "9995         3   23  55723.74            9.415935     12         2   \n",
      "9996         4   48  34129.34            6.740547     15         2   \n",
      "9997         1   48  45983.43            6.590911     10         0   \n",
      "9998         1   39  16667.58           12.071910     14         1   \n",
      "9999         1   28   9020.92           11.754720     17         1   \n",
      "\n",
      "      Yearly_equip_failure  MonthlyCharge  Bandwidth_GB_Year  gender_dummy  \\\n",
      "0                        1     172.455519         904.536110             0   \n",
      "1                        1     242.632554         800.982766             1   \n",
      "2                        1     159.947583        2054.706961             1   \n",
      "3                        0     119.956840        2164.579412             0   \n",
      "4                        1     149.948316         271.493436             0   \n",
      "...                    ...            ...                ...           ...   \n",
      "9995                     0     159.979400        6511.252601             0   \n",
      "9996                     0     207.481100        5695.951810             0   \n",
      "9997                     0     169.974100        4159.305799             1   \n",
      "9998                     0     252.624000        6468.456752             0   \n",
      "9999                     0     217.484000        5857.586167             0   \n",
      "\n",
      "      churn_dummy  \n",
      "0               0  \n",
      "1               1  \n",
      "2               0  \n",
      "3               0  \n",
      "4               1  \n",
      "...           ...  \n",
      "9995            0  \n",
      "9996            0  \n",
      "9997            0  \n",
      "9998            0  \n",
      "9999            0  \n",
      "\n",
      "[10000 rows x 11 columns]\n"
     ]
    }
   ],
   "source": [
    "NewDf.to_csv ('NewDf_Log.csv', index = False, header=True)\n",
    "print(NewDf)"
   ]
  },
  {
   "cell_type": "code",
   "execution_count": 29,
   "id": "5aef5a46-3d5d-4549-ad51-78992528c0d9",
   "metadata": {},
   "outputs": [
    {
     "name": "stdout",
     "output_type": "stream",
     "text": [
      "Optimization terminated successfully.\n",
      "         Current function value: 0.357039\n",
      "         Iterations 7\n"
     ]
    },
    {
     "data": {
      "text/html": [
       "<table class=\"simpletable\">\n",
       "<caption>Logit Regression Results</caption>\n",
       "<tr>\n",
       "  <th>Dep. Variable:</th>      <td>churn_dummy</td>   <th>  No. Observations:  </th>  <td> 10000</td> \n",
       "</tr>\n",
       "<tr>\n",
       "  <th>Model:</th>                 <td>Logit</td>      <th>  Df Residuals:      </th>  <td>  9989</td> \n",
       "</tr>\n",
       "<tr>\n",
       "  <th>Method:</th>                 <td>MLE</td>       <th>  Df Model:          </th>  <td>    10</td> \n",
       "</tr>\n",
       "<tr>\n",
       "  <th>Date:</th>            <td>Fri, 10 Jun 2022</td> <th>  Pseudo R-squ.:     </th>  <td>0.3825</td> \n",
       "</tr>\n",
       "<tr>\n",
       "  <th>Time:</th>                <td>12:50:49</td>     <th>  Log-Likelihood:    </th> <td> -3570.4</td>\n",
       "</tr>\n",
       "<tr>\n",
       "  <th>converged:</th>             <td>True</td>       <th>  LL-Null:           </th> <td> -5782.2</td>\n",
       "</tr>\n",
       "<tr>\n",
       "  <th>Covariance Type:</th>     <td>nonrobust</td>    <th>  LLR p-value:       </th>  <td> 0.000</td> \n",
       "</tr>\n",
       "</table>\n",
       "<table class=\"simpletable\">\n",
       "<tr>\n",
       "            <td></td>              <th>coef</th>     <th>std err</th>      <th>z</th>      <th>P>|z|</th>  <th>[0.025</th>    <th>0.975]</th>  \n",
       "</tr>\n",
       "<tr>\n",
       "  <th>const</th>                <td>   -4.9169</td> <td>    0.236</td> <td>  -20.837</td> <td> 0.000</td> <td>   -5.379</td> <td>   -4.454</td>\n",
       "</tr>\n",
       "<tr>\n",
       "  <th>gender_dummy</th>         <td>   -0.1933</td> <td>    0.059</td> <td>   -3.257</td> <td> 0.001</td> <td>   -0.310</td> <td>   -0.077</td>\n",
       "</tr>\n",
       "<tr>\n",
       "  <th>Outage_sec_perweek</th>   <td>   -0.0027</td> <td>    0.010</td> <td>   -0.267</td> <td> 0.790</td> <td>   -0.022</td> <td>    0.017</td>\n",
       "</tr>\n",
       "<tr>\n",
       "  <th>MonthlyCharge</th>        <td>    0.0342</td> <td>    0.001</td> <td>   38.695</td> <td> 0.000</td> <td>    0.032</td> <td>    0.036</td>\n",
       "</tr>\n",
       "<tr>\n",
       "  <th>Bandwidth_GB_Year</th>    <td>   -0.0008</td> <td> 1.97e-05</td> <td>  -41.492</td> <td> 0.000</td> <td>   -0.001</td> <td>   -0.001</td>\n",
       "</tr>\n",
       "<tr>\n",
       "  <th>Email</th>                <td>    0.0023</td> <td>    0.010</td> <td>    0.232</td> <td> 0.817</td> <td>   -0.017</td> <td>    0.022</td>\n",
       "</tr>\n",
       "<tr>\n",
       "  <th>Contacts</th>             <td>    0.0291</td> <td>    0.030</td> <td>    0.976</td> <td> 0.329</td> <td>   -0.029</td> <td>    0.088</td>\n",
       "</tr>\n",
       "<tr>\n",
       "  <th>Yearly_equip_failure</th> <td>   -0.0417</td> <td>    0.047</td> <td>   -0.885</td> <td> 0.376</td> <td>   -0.134</td> <td>    0.051</td>\n",
       "</tr>\n",
       "<tr>\n",
       "  <th>Income</th>               <td> 9.126e-07</td> <td> 1.05e-06</td> <td>    0.865</td> <td> 0.387</td> <td>-1.15e-06</td> <td> 2.98e-06</td>\n",
       "</tr>\n",
       "<tr>\n",
       "  <th>Age</th>                  <td>   -0.0012</td> <td>    0.001</td> <td>   -0.858</td> <td> 0.391</td> <td>   -0.004</td> <td>    0.002</td>\n",
       "</tr>\n",
       "<tr>\n",
       "  <th>Children</th>             <td>    0.0174</td> <td>    0.014</td> <td>    1.242</td> <td> 0.214</td> <td>   -0.010</td> <td>    0.045</td>\n",
       "</tr>\n",
       "</table>"
      ],
      "text/plain": [
       "<class 'statsmodels.iolib.summary.Summary'>\n",
       "\"\"\"\n",
       "                           Logit Regression Results                           \n",
       "==============================================================================\n",
       "Dep. Variable:            churn_dummy   No. Observations:                10000\n",
       "Model:                          Logit   Df Residuals:                     9989\n",
       "Method:                           MLE   Df Model:                           10\n",
       "Date:                Fri, 10 Jun 2022   Pseudo R-squ.:                  0.3825\n",
       "Time:                        12:50:49   Log-Likelihood:                -3570.4\n",
       "converged:                       True   LL-Null:                       -5782.2\n",
       "Covariance Type:            nonrobust   LLR p-value:                     0.000\n",
       "========================================================================================\n",
       "                           coef    std err          z      P>|z|      [0.025      0.975]\n",
       "----------------------------------------------------------------------------------------\n",
       "const                   -4.9169      0.236    -20.837      0.000      -5.379      -4.454\n",
       "gender_dummy            -0.1933      0.059     -3.257      0.001      -0.310      -0.077\n",
       "Outage_sec_perweek      -0.0027      0.010     -0.267      0.790      -0.022       0.017\n",
       "MonthlyCharge            0.0342      0.001     38.695      0.000       0.032       0.036\n",
       "Bandwidth_GB_Year       -0.0008   1.97e-05    -41.492      0.000      -0.001      -0.001\n",
       "Email                    0.0023      0.010      0.232      0.817      -0.017       0.022\n",
       "Contacts                 0.0291      0.030      0.976      0.329      -0.029       0.088\n",
       "Yearly_equip_failure    -0.0417      0.047     -0.885      0.376      -0.134       0.051\n",
       "Income                9.126e-07   1.05e-06      0.865      0.387   -1.15e-06    2.98e-06\n",
       "Age                     -0.0012      0.001     -0.858      0.391      -0.004       0.002\n",
       "Children                 0.0174      0.014      1.242      0.214      -0.010       0.045\n",
       "========================================================================================\n",
       "\"\"\""
      ]
     },
     "execution_count": 29,
     "metadata": {},
     "output_type": "execute_result"
    }
   ],
   "source": [
    "#initial multiple logistic regression model\n",
    "import statsmodels.api as sm\n",
    "import statsmodels.formula.api as smf\n",
    "\n",
    "X = NewDf[['gender_dummy','Outage_sec_perweek','MonthlyCharge','Bandwidth_GB_Year','Email','Contacts',\n",
    "           'Yearly_equip_failure','Income','Age','Children']]\n",
    "y = NewDf['churn_dummy']\n",
    "Xc = sm.add_constant(X)\n",
    "logistic_regression = sm.Logit(y,Xc)\n",
    "fitted_model = logistic_regression.fit()\n",
    "fitted_model.summary()"
   ]
  },
  {
   "cell_type": "code",
   "execution_count": 30,
   "id": "97e9341c-7231-43fd-8b0c-b1e75a6235b4",
   "metadata": {},
   "outputs": [
    {
     "name": "stdout",
     "output_type": "stream",
     "text": [
      "Optimization terminated successfully.\n",
      "         Current function value: 0.357282\n",
      "         Iterations 7\n"
     ]
    },
    {
     "data": {
      "text/html": [
       "<table class=\"simpletable\">\n",
       "<caption>Logit Regression Results</caption>\n",
       "<tr>\n",
       "  <th>Dep. Variable:</th>      <td>churn_dummy</td>   <th>  No. Observations:  </th>  <td> 10000</td> \n",
       "</tr>\n",
       "<tr>\n",
       "  <th>Model:</th>                 <td>Logit</td>      <th>  Df Residuals:      </th>  <td>  9996</td> \n",
       "</tr>\n",
       "<tr>\n",
       "  <th>Method:</th>                 <td>MLE</td>       <th>  Df Model:          </th>  <td>     3</td> \n",
       "</tr>\n",
       "<tr>\n",
       "  <th>Date:</th>            <td>Fri, 10 Jun 2022</td> <th>  Pseudo R-squ.:     </th>  <td>0.3821</td> \n",
       "</tr>\n",
       "<tr>\n",
       "  <th>Time:</th>                <td>12:50:49</td>     <th>  Log-Likelihood:    </th> <td> -3572.8</td>\n",
       "</tr>\n",
       "<tr>\n",
       "  <th>converged:</th>             <td>True</td>       <th>  LL-Null:           </th> <td> -5782.2</td>\n",
       "</tr>\n",
       "<tr>\n",
       "  <th>Covariance Type:</th>     <td>nonrobust</td>    <th>  LLR p-value:       </th>  <td> 0.000</td> \n",
       "</tr>\n",
       "</table>\n",
       "<table class=\"simpletable\">\n",
       "<tr>\n",
       "          <td></td>             <th>coef</th>     <th>std err</th>      <th>z</th>      <th>P>|z|</th>  <th>[0.025</th>    <th>0.975]</th>  \n",
       "</tr>\n",
       "<tr>\n",
       "  <th>const</th>             <td>   -4.8958</td> <td>    0.147</td> <td>  -33.228</td> <td> 0.000</td> <td>   -5.185</td> <td>   -4.607</td>\n",
       "</tr>\n",
       "<tr>\n",
       "  <th>gender_dummy</th>      <td>   -0.1918</td> <td>    0.059</td> <td>   -3.236</td> <td> 0.001</td> <td>   -0.308</td> <td>   -0.076</td>\n",
       "</tr>\n",
       "<tr>\n",
       "  <th>MonthlyCharge</th>     <td>    0.0342</td> <td>    0.001</td> <td>   38.701</td> <td> 0.000</td> <td>    0.032</td> <td>    0.036</td>\n",
       "</tr>\n",
       "<tr>\n",
       "  <th>Bandwidth_GB_Year</th> <td>   -0.0008</td> <td> 1.97e-05</td> <td>  -41.529</td> <td> 0.000</td> <td>   -0.001</td> <td>   -0.001</td>\n",
       "</tr>\n",
       "</table>"
      ],
      "text/plain": [
       "<class 'statsmodels.iolib.summary.Summary'>\n",
       "\"\"\"\n",
       "                           Logit Regression Results                           \n",
       "==============================================================================\n",
       "Dep. Variable:            churn_dummy   No. Observations:                10000\n",
       "Model:                          Logit   Df Residuals:                     9996\n",
       "Method:                           MLE   Df Model:                            3\n",
       "Date:                Fri, 10 Jun 2022   Pseudo R-squ.:                  0.3821\n",
       "Time:                        12:50:49   Log-Likelihood:                -3572.8\n",
       "converged:                       True   LL-Null:                       -5782.2\n",
       "Covariance Type:            nonrobust   LLR p-value:                     0.000\n",
       "=====================================================================================\n",
       "                        coef    std err          z      P>|z|      [0.025      0.975]\n",
       "-------------------------------------------------------------------------------------\n",
       "const                -4.8958      0.147    -33.228      0.000      -5.185      -4.607\n",
       "gender_dummy         -0.1918      0.059     -3.236      0.001      -0.308      -0.076\n",
       "MonthlyCharge         0.0342      0.001     38.701      0.000       0.032       0.036\n",
       "Bandwidth_GB_Year    -0.0008   1.97e-05    -41.529      0.000      -0.001      -0.001\n",
       "=====================================================================================\n",
       "\"\"\""
      ]
     },
     "execution_count": 30,
     "metadata": {},
     "output_type": "execute_result"
    }
   ],
   "source": [
    "#reduced multiple logistic regression model\n",
    "X = NewDf[['gender_dummy','MonthlyCharge','Bandwidth_GB_Year']]\n",
    "y = NewDf['churn_dummy']\n",
    "\n",
    "import statsmodels.api as sm\n",
    "import statsmodels.formula.api as smf\n",
    "Xc = sm.add_constant(X)\n",
    "logistic_regression = sm.Logit(y,Xc)\n",
    "new_model = logistic_regression.fit()\n",
    "new_model.summary()"
   ]
  },
  {
   "cell_type": "code",
   "execution_count": null,
   "id": "4ea98e01-3614-4dec-a433-8a913d86997e",
   "metadata": {},
   "outputs": [],
   "source": []
  },
  {
   "cell_type": "code",
   "execution_count": 31,
   "id": "8edf7c52-b31e-4f58-9398-b25673593b34",
   "metadata": {},
   "outputs": [
    {
     "name": "stdout",
     "output_type": "stream",
     "text": [
      "              precision    recall  f1-score   support\n",
      "\n",
      "           0       0.86      0.91      0.88      2201\n",
      "           1       0.70      0.59      0.64       799\n",
      "\n",
      "    accuracy                           0.82      3000\n",
      "   macro avg       0.78      0.75      0.76      3000\n",
      "weighted avg       0.82      0.82      0.82      3000\n",
      "\n"
     ]
    }
   ],
   "source": [
    "X_train,X_test,y_train,y_test = train_test_split(X,y,test_size=0.3,random_state=0)\n",
    "\n",
    "#Feature Scaling\n",
    "from sklearn.preprocessing import StandardScaler\n",
    "sc_X=StandardScaler()\n",
    "X_train=sc_X.fit_transform(X_train)\n",
    "X_test=sc_X.transform(X_test)\n",
    "\n",
    "#Training the Logistic Model\n",
    "from sklearn.linear_model import LogisticRegression\n",
    "classifier = LogisticRegression()\n",
    "classifier.fit(X_train, y_train)\n",
    "\n",
    "#Predicting the Test Set Result\n",
    "y_pred = classifier.predict(X_test)\n",
    "\n",
    "#create classification report\n",
    "print(classification_report(y_test, y_pred))"
   ]
  },
  {
   "cell_type": "code",
   "execution_count": 32,
   "id": "1d40bcd1-2894-41aa-9ca3-afc42e744ca9",
   "metadata": {
    "tags": []
   },
   "outputs": [
    {
     "data": {
      "text/plain": [
       "<AxesSubplot:>"
      ]
     },
     "execution_count": 32,
     "metadata": {},
     "output_type": "execute_result"
    },
    {
     "data": {
      "image/png": "[encoded data removed]",
      "text/plain": [
       "<Figure size 432x288 with 2 Axes>"
      ]
     },
     "metadata": {
      "needs_background": "light"
     },
     "output_type": "display_data"
    }
   ],
   "source": [
    "#Create Confusion Matrix\n",
    "from sklearn.metrics import confusion_matrix\n",
    "conmat = confusion_matrix(y_test, y_pred)\n",
    "\n",
    "sns.heatmap(conmat, annot=True)"
   ]
  },
  {
   "cell_type": "code",
   "execution_count": 33,
   "id": "e60c508a-56f7-4e25-8949-a24cc839834a",
   "metadata": {},
   "outputs": [
    {
     "data": {
      "text/plain": [
       "array([[2004,  197],\n",
       "       [ 331,  468]])"
      ]
     },
     "execution_count": 33,
     "metadata": {},
     "output_type": "execute_result"
    }
   ],
   "source": [
    "cnf_matrix = metrics.confusion_matrix(y_test, y_pred)\n",
    "cnf_matrix"
   ]
  },
  {
   "cell_type": "code",
   "execution_count": 38,
   "id": "7007b54e-b0b7-4b57-8517-9be04eb06b30",
   "metadata": {},
   "outputs": [
    {
     "name": "stdout",
     "output_type": "stream",
     "text": [
      "odd ratios of coefficients: const                0.007478\n",
      "gender_dummy         0.825508\n",
      "MonthlyCharge        1.034770\n",
      "Bandwidth_GB_Year    0.999184\n",
      "dtype: float64\n"
     ]
    }
   ],
   "source": [
    "print ('odd ratios of coefficients: %s' % np.exp(new_model.params))"
   ]
  },
  {
   "cell_type": "code",
   "execution_count": 40,
   "id": "45fc2446-9fea-40f4-a760-5a9b061d2c5f",
   "metadata": {},
   "outputs": [
    {
     "ename": "AttributeError",
     "evalue": "'LogitResults' object has no attribute 'roc_auc_score'",
     "output_type": "error",
     "traceback": [
      "\u001b[0;31m---------------------------------------------------------------------------\u001b[0m",
      "\u001b[0;31mAttributeError\u001b[0m                            Traceback (most recent call last)",
      "\u001b[0;32m/var/folders/9_/079plbl17v5_pmd2zsyl6wmc0000gn/T/ipykernel_15043/468821688.py\u001b[0m in \u001b[0;36m<module>\u001b[0;34m\u001b[0m\n\u001b[0;32m----> 1\u001b[0;31m \u001b[0mnew_model\u001b[0m\u001b[0;34m.\u001b[0m\u001b[0mroc_auc_score\u001b[0m\u001b[0;34m(\u001b[0m\u001b[0mX_test\u001b[0m\u001b[0;34m,\u001b[0m \u001b[0my_test\u001b[0m\u001b[0;34m)\u001b[0m\u001b[0;34m\u001b[0m\u001b[0;34m\u001b[0m\u001b[0m\n\u001b[0m",
      "\u001b[0;32m~/opt/anaconda3/lib/python3.9/site-packages/statsmodels/base/wrapper.py\u001b[0m in \u001b[0;36m__getattribute__\u001b[0;34m(self, attr)\u001b[0m\n\u001b[1;32m     32\u001b[0m             \u001b[0;32mpass\u001b[0m\u001b[0;34m\u001b[0m\u001b[0;34m\u001b[0m\u001b[0m\n\u001b[1;32m     33\u001b[0m \u001b[0;34m\u001b[0m\u001b[0m\n\u001b[0;32m---> 34\u001b[0;31m         \u001b[0mobj\u001b[0m \u001b[0;34m=\u001b[0m \u001b[0mgetattr\u001b[0m\u001b[0;34m(\u001b[0m\u001b[0mresults\u001b[0m\u001b[0;34m,\u001b[0m \u001b[0mattr\u001b[0m\u001b[0;34m)\u001b[0m\u001b[0;34m\u001b[0m\u001b[0;34m\u001b[0m\u001b[0m\n\u001b[0m\u001b[1;32m     35\u001b[0m         \u001b[0mdata\u001b[0m \u001b[0;34m=\u001b[0m \u001b[0mresults\u001b[0m\u001b[0;34m.\u001b[0m\u001b[0mmodel\u001b[0m\u001b[0;34m.\u001b[0m\u001b[0mdata\u001b[0m\u001b[0;34m\u001b[0m\u001b[0;34m\u001b[0m\u001b[0m\n\u001b[1;32m     36\u001b[0m         \u001b[0mhow\u001b[0m \u001b[0;34m=\u001b[0m \u001b[0mself\u001b[0m\u001b[0;34m.\u001b[0m\u001b[0m_wrap_attrs\u001b[0m\u001b[0;34m.\u001b[0m\u001b[0mget\u001b[0m\u001b[0;34m(\u001b[0m\u001b[0mattr\u001b[0m\u001b[0;34m)\u001b[0m\u001b[0;34m\u001b[0m\u001b[0;34m\u001b[0m\u001b[0m\n",
      "\u001b[0;31mAttributeError\u001b[0m: 'LogitResults' object has no attribute 'roc_auc_score'"
     ]
    }
   ],
   "source": []
  },
  {
   "cell_type": "code",
   "execution_count": null,
   "id": "da4ae1e1-611c-4957-84b9-354229978a8e",
   "metadata": {},
   "outputs": [],
   "source": []
  },
  {
   "cell_type": "code",
   "execution_count": null,
   "id": "254c6f25-e42d-4cc7-a0d4-a0f5fd1005da",
   "metadata": {},
   "outputs": [],
   "source": []
  },
  {
   "cell_type": "code",
   "execution_count": null,
   "id": "6f347920-34db-4884-8b5a-5c256dc53721",
   "metadata": {},
   "outputs": [],
   "source": []
  },
  {
   "cell_type": "code",
   "execution_count": null,
   "id": "c4b31488-81a7-49f6-a93b-f70831f4d510",
   "metadata": {},
   "outputs": [],
   "source": []
  }
 ],
 "metadata": {
  "kernelspec": {
   "display_name": "Python 3 (ipykernel)",
   "language": "python",
   "name": "python3"
  },
  "language_info": {
   "codemirror_mode": {
    "name": "ipython",
    "version": 3
   },
   "file_extension": ".py",
   "mimetype": "text/x-python",
   "name": "python",
   "nbconvert_exporter": "python",
   "pygments_lexer": "ipython3",
   "version": "3.9.7"
  },
  "toc-autonumbering": false
 },
 "nbformat": 4,
 "nbformat_minor": 5
}
